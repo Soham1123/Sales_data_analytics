import os
import pandas as pd
import matplotlib.pyplot as plt
import seaborn as sns
import plotly.graph_objs as go
from plotly.offline import iplot

files =[file for file in os.listdir("C:\Sales Data")]
for file in files:
    print(file)


path = "C:\Sales Data"

#blank dataframe
all_data = pd.DataFrame()

for file in files:
    current_df = pd.read_csv(path+"/"+file)
    all_data = pd.concat([all_data, current_df])
    
all_data.shape

all_data.to_csv('C:\Sales Data/all_data.csv',index=False)

all_data.dtypes

all_data.head()

all_data.isnull().sum()

all_data = all_data.dropna(how='all')
all_data.shape

#Best month for sale the product?


'04/19/19 08:46'.split('/')[0]

def month(x):
    return x.split('/')[0]

#add month col
all_data['Month']=all_data['Order Date'].apply(month)

all_data.dtypes

all_data['Month'].unique()

filter=all_data['Month']=='Order Date'
len(all_data[~filter])

all_data=all_data[~filter]

all_data.shape

all_data.head()

all_data['Month']=all_data['Month'].astype(int)

all_data.dtypes

all_data['Price Each']=all_data['Price Each'].astype(float)

all_data['Quantity Ordered']=all_data['Quantity Ordered'].astype(int)

all_data['sales']=all_data['Quantity Ordered']*all_data['Price Each']
all_data.head(5)

all_data.groupby('Month')['sales'].sum()

months=range(1,13)
plt.bar(months,all_data.groupby('Month')['sales'].sum())
plt.xticks(months)
plt.ylabel('Sales in USD ($)')
plt.xlabel('Month number')
plt.show()

#which city has maximum order
'917 1st St, Dallas, TX 75001'.split(',')[1]

def city(x):
    return x.split(',')[1]

all_data['city']=all_data['Purchase Address'].apply(city)

all_data.groupby('city')['city'].count()

plt.bar(all_data.groupby('city')['city'].count().index,all_data.groupby('city')['city'].count())
plt.xticks(rotation='vertical')
plt.ylabel('received orders')
plt.xlabel('city names')
plt.show()

#What time should we display advertisements to maximise for product purchase?

all_data['Order Date'][0].dtype

all_data['Hour'] = pd.to_datetime(all_data['Order Date']).dt.hour

keys=[]
hour=[]
for key,hour_df in all_data.groupby('Hour'):
    keys.append(key)
    hour.append(len(hour_df))

plt.grid()
plt.plot(keys,hour)

# what product sold the most and why?
all_data.groupby('Product')['Quantity Ordered'].sum().plot(kind='bar')

all_data.groupby('Product')['Price Each'].mean()

products=all_data.groupby('Product')['Quantity Ordered'].sum().index
quantity=all_data.groupby('Product')['Quantity Ordered'].sum()
prices=all_data.groupby('Product')['Price Each'].mean()

plt.figure(figsize=(40,24))
fig,ax1 = plt.subplots()
ax2=ax1.twinx()
ax1.bar(products, quantity, color='g')
ax2.plot(products, prices, 'b-')
ax1.set_xticklabels(products, rotation='vertical', size=8)

#top selling company is 'AAA Batteries'

all_data.shape

# what product are most often sold together?
df=all_data[all_data['Order ID'].duplicated(keep=False)]
df.head(20)

#create grouped col 
df['Grouped'] = df.groupby('Order ID')['Product'].transform(lambda x: ','.join(x))

df.head()

df.shape

#lets drop out all duplicate Order ID
df2 = df.drop_duplicates(subset=['Order ID'])

df2['Grouped'].value_counts()[0:5].plot.pie()

values=df2['Grouped'].value_counts()[0:5]
labels=df['Grouped'].value_counts()[0:5].index

trace=go.Pie(labels=labels, values=values,
               hoverinfo='label+percent', textinfo='value', 
               textfont=dict(size=25),
              pull=[0, 0, 0,0.2, 0]
               )

iplot([trace])

